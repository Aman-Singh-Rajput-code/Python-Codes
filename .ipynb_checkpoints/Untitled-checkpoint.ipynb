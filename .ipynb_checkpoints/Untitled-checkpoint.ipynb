{
 "cells": [
  {
   "cell_type": "code",
   "execution_count": null,
   "id": "77c81942-4d1a-4f2b-9cae-49249033570c",
   "metadata": {},
   "outputs": [],
   "source": [
    "#iloc:\"integer location function\"\n",
    "#DataFrame.iloc[row_index,column]\n",
    "\n",
    "#selecting a single element\n",
    "val=DataFrame.iloc[row,column]\n",
    "#selecting a specific row\n",
    "val=dataframe.iloc[row_index]\n",
    "#selecting a multiple row element\n",
    "val=dataframe.iloc[startrow:endrow]\n",
    "#selecting a specific rows and column \n",
    "val=DataFrame.iloc[[row1,row2],[col1,col2]]\n",
    "#selecting a alll rows for specific column\n",
    "val=DataFrame.iloc[:,[col1,col2]]"
   ]
  },
  {
   "cell_type": "code",
   "execution_count": 9,
   "id": "043460c9-7ccb-4ce6-989c-68a76e775bd3",
   "metadata": {},
   "outputs": [
    {
     "name": "stdout",
     "output_type": "stream",
     "text": [
      "     name  age country\n",
      "0    aman   20   india\n",
      "1    binu   26   korea\n",
      "2   choti   23  africa\n",
      "3  sundar   22   india\n",
      "korea\n",
      "   age country\n",
      "1   26   korea\n",
      "3   22   india\n"
     ]
    }
   ],
   "source": [
    "#example\n",
    "import pandas as pd\n",
    "data={'name':['aman','binu','choti','sundar'],\n",
    "     'age':[20,26,23,22],'country':['india','korea','africa','india']}\n",
    "df=pd.DataFrame(data)\n",
    "print(df)\n",
    "\n",
    "#selecting 'korea'\n",
    "element=df.iloc[1,2]\n",
    "\n",
    "#selecting specific rows and column\n",
    "subset=df.iloc[[1,3],[1,2]]\n",
    "\n",
    "print(element)\n",
    "print(subset)"
   ]
  },
  {
   "cell_type": "code",
   "execution_count": null,
   "id": "57efb21b-4be3-439a-9e7b-acf7fb8c13f3",
   "metadata": {},
   "outputs": [],
   "source": []
  }
 ],
 "metadata": {
  "kernelspec": {
   "display_name": "Python 3 (ipykernel)",
   "language": "python",
   "name": "python3"
  },
  "language_info": {
   "codemirror_mode": {
    "name": "ipython",
    "version": 3
   },
   "file_extension": ".py",
   "mimetype": "text/x-python",
   "name": "python",
   "nbconvert_exporter": "python",
   "pygments_lexer": "ipython3",
   "version": "3.12.1"
  }
 },
 "nbformat": 4,
 "nbformat_minor": 5
}
