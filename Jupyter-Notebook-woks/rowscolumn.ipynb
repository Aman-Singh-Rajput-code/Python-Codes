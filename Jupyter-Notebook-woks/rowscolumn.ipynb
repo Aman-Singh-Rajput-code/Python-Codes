{
 "cells": [
  {
   "cell_type": "code",
   "execution_count": 18,
   "id": "e63710af-6254-4c4b-8418-7aef0a524e27",
   "metadata": {},
   "outputs": [
    {
     "name": "stdout",
     "output_type": "stream",
     "text": [
      "   a  b   c\n",
      "1  4  7  10\n",
      "2  5  8  11\n",
      "3  6  9  12\n"
     ]
    }
   ],
   "source": [
    "#we specifies values for each column\n",
    "import pandas as pd\n",
    "df=pd.DataFrame({'a':[4,5,6],'b':[7,8,9],'c':[10,11,12]},index=[1,2,3])\n",
    "print(df)"
   ]
  },
  {
   "cell_type": "code",
   "execution_count": 19,
   "id": "d7437504-fc86-4e9c-b8d2-fc91ee02a4e1",
   "metadata": {},
   "outputs": [
    {
     "name": "stdout",
     "output_type": "stream",
     "text": [
      "    a   b   c\n",
      "1   4   5   6\n",
      "2   7   8   9\n",
      "3  10  11  12\n"
     ]
    }
   ],
   "source": [
    "#we specifies values for each rows\n",
    "import pandas as pd\n",
    "df=pd.DataFrame([[4,5,6],[7,8,9],[10,11,12]],index=[1,2,3],columns=['a','b','c'])\n",
    "print(df)"
   ]
  },
  {
   "cell_type": "code",
   "execution_count": 24,
   "id": "335930a8-9c94-484b-b019-70593dff48f6",
   "metadata": {},
   "outputs": [
    {
     "name": "stdout",
     "output_type": "stream",
     "text": [
      "     a  b   c\n",
      "N v          \n",
      "D 1  4  7  10\n",
      "  2  5  8  11\n",
      "e 1  6  9  12\n"
     ]
    }
   ],
   "source": [
    "import pandas as pd\n",
    "df=pd.DataFrame({'a':[4,5,6],'b':[7,8,9],'c':[10,11,12]},index=pd.MultiIndex.from_tuples([('D',1),('D',2),('e',1)],names=['N','v']))\n",
    "print(df)"
   ]
  },
  {
   "cell_type": "code",
   "execution_count": null,
   "id": "cf8f7ea9-21d3-40a9-9ec8-ac3f44773e40",
   "metadata": {},
   "outputs": [],
   "source": []
  }
 ],
 "metadata": {
  "kernelspec": {
   "display_name": "Python 3 (ipykernel)",
   "language": "python",
   "name": "python3"
  },
  "language_info": {
   "codemirror_mode": {
    "name": "ipython",
    "version": 3
   },
   "file_extension": ".py",
   "mimetype": "text/x-python",
   "name": "python",
   "nbconvert_exporter": "python",
   "pygments_lexer": "ipython3",
   "version": "3.12.1"
  }
 },
 "nbformat": 4,
 "nbformat_minor": 5
}
